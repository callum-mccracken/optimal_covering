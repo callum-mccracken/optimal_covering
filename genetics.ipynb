{
 "cells": [
  {
   "cell_type": "markdown",
   "metadata": {},
   "source": [
    "# First import all the constants we'll need to run the following code"
   ]
  },
  {
   "cell_type": "code",
   "execution_count": 2,
   "metadata": {},
   "outputs": [],
   "source": [
    "import constants"
   ]
  },
  {
   "cell_type": "markdown",
   "metadata": {},
   "source": [
    "Note that **time is a constant** (I could change that if that would be helpful)"
   ]
  },
  {
   "cell_type": "code",
   "execution_count": 10,
   "metadata": {},
   "outputs": [
    {
     "name": "stdout",
     "output_type": "stream",
     "text": [
      "2015-04-04 22:00:00\n",
      "6378.137\n"
     ]
    }
   ],
   "source": [
    "print(constants.dtime)  # time we're looking at the Earth\n",
    "print(constants.re_km)  # radius of Earth in km (WGS84 ellipsoid value)\n"
   ]
  },
  {
   "cell_type": "markdown",
   "metadata": {},
   "source": [
    "# Then make sure cloud data is downloaded for the time we care about (download if it's not)\n",
    "\n",
    "- If the data exists already, this will just initialize a couple objects that will be useful later.\n",
    "\n",
    "- If not, it will be downloaded, then those objects will be initialized."
   ]
  },
  {
   "cell_type": "code",
   "execution_count": 4,
   "metadata": {},
   "outputs": [
    {
     "name": "stdout",
     "output_type": "stream",
     "text": [
      "initializing clear polygons\n",
      "'get_light_mask'  110.83 ms\n",
      "'get_clear_polys'  1590.96 ms\n"
     ]
    }
   ],
   "source": [
    "import earth_data"
   ]
  },
  {
   "cell_type": "markdown",
   "metadata": {},
   "source": [
    "The two things that got initialized here are:\n",
    "\n",
    "- `earth_data.clear_polys`: an array of Polygon objects, which represent clear patches on the Earth\n",
    "\n",
    "- `earth_data.big_clear_poly`: the union of clear spots, a big Polygon (or MultiPolygon or GeometryCollection)\n",
    "\n",
    "But don't really worry about those, you won't need to directly deal with them"
   ]
  },
  {
   "cell_type": "markdown",
   "metadata": {},
   "source": [
    "# Now it's time to run the genetic algorithm given our input data\n",
    "\n",
    "Note that we don't actually have to run the previous code to do this step, I just did that earlier so you'd know what was going on behind the scenes\n",
    "\n",
    "There are a couple known errors here that you don't have to worry about:\n",
    "\n",
    "- `/Users/callum/opt/anaconda3/envs/optcov/lib/python3.7/site-packages/cartopy/mpl/geoaxes.py:632: UserWarning: Approximating coordinate system <cartopy._crs.Geodetic object at 0x103e6c410> with the PlateCarree projection. 'PlateCarree projection.'.format(crs))`\n",
    "  - this one is just a warning related to approximations made while plotting, I'm not sure what it even means but let's not worry about it\n",
    "\n",
    "- `TopologyException`: geometry is hard, if you can figure out how to fix these let me know. I just rely on the fact that I take enough combinations that setting all cases where I have errors to zero is OK\n"
   ]
  },
  {
   "cell_type": "code",
   "execution_count": 6,
   "metadata": {},
   "outputs": [
    {
     "name": "stdout",
     "output_type": "stream",
     "text": [
      "getting clear polys\n",
      "generating population\n",
      "generation 0\n",
      "'calc_fitness'  7982.95 ms\n",
      "Best fitness: 385.98241858744507 index 8\n",
      "plotting clear area\n",
      "adding 3000 clear polygons to plot\n"
     ]
    },
    {
     "name": "stderr",
     "output_type": "stream",
     "text": [
      "/Users/callum/opt/anaconda3/envs/optcov/lib/python3.7/site-packages/cartopy/mpl/geoaxes.py:632: UserWarning: Approximating coordinate system <cartopy._crs.Geodetic object at 0x103e6c410> with the PlateCarree projection.\n",
      "  'PlateCarree projection.'.format(crs))\n"
     ]
    },
    {
     "name": "stdout",
     "output_type": "stream",
     "text": [
      "saved image: /Users/callum/Desktop/ECCC/optimal_coverings/images_and_output/gen_0.png\n",
      "'plot_member'  8947.23 ms\n",
      "checking 45 pairings\n",
      "each with 10 arrangements\n",
      "'calc_fitness'  4306.61 ms\n"
     ]
    },
    {
     "name": "stderr",
     "output_type": "stream",
     "text": [
      "TopologyException: side location conflict at 112.8125 65.891076538692644\n"
     ]
    },
    {
     "name": "stdout",
     "output_type": "stream",
     "text": [
      "This operation could not be performed. Reason: unknown\n",
      "something messed up in the geometry module...\n",
      "'calc_fitness'  4565.74 ms\n",
      "'calc_fitness'  4428.68 ms\n",
      "'calc_fitness'  4092.20 ms\n",
      "'calc_fitness'  4013.92 ms\n",
      "'calc_fitness'  4159.34 ms\n",
      "'calc_fitness'  3949.39 ms\n",
      "'calc_fitness'  3929.39 ms\n",
      "'calc_fitness'  4291.72 ms\n",
      "'calc_fitness'  4171.57 ms\n",
      "'calc_fitness'  4333.51 ms\n",
      "'calc_fitness'  4129.11 ms\n",
      "'calc_fitness'  4049.52 ms\n",
      "'calc_fitness'  4953.23 ms\n",
      "'calc_fitness'  4318.65 ms\n",
      "'calc_fitness'  4862.77 ms\n",
      "'calc_fitness'  4073.46 ms\n",
      "'calc_fitness'  4476.83 ms\n",
      "'calc_fitness'  4022.52 ms\n",
      "'calc_fitness'  3866.74 ms\n",
      "'calc_fitness'  4042.71 ms\n",
      "'calc_fitness'  4102.99 ms\n",
      "'calc_fitness'  4137.07 ms\n",
      "'calc_fitness'  4571.60 ms\n",
      "'calc_fitness'  4630.53 ms\n",
      "'calc_fitness'  4615.98 ms\n",
      "'calc_fitness'  4075.90 ms\n",
      "'calc_fitness'  4311.35 ms\n",
      "'calc_fitness'  4165.61 ms\n",
      "'calc_fitness'  4133.38 ms\n",
      "'calc_fitness'  3998.05 ms\n",
      "'calc_fitness'  3886.95 ms\n",
      "'calc_fitness'  4193.69 ms\n",
      "'calc_fitness'  4540.73 ms\n",
      "'calc_fitness'  4061.39 ms\n",
      "'calc_fitness'  3781.59 ms\n",
      "'calc_fitness'  4107.42 ms\n",
      "'calc_fitness'  3855.01 ms\n",
      "'calc_fitness'  4157.28 ms\n",
      "'calc_fitness'  3952.12 ms\n",
      "'calc_fitness'  3671.12 ms\n",
      "'calc_fitness'  3784.66 ms\n",
      "'calc_fitness'  3928.49 ms\n",
      "'calc_fitness'  3879.97 ms\n",
      "'calc_fitness'  3941.34 ms\n",
      "'offspring'  188509.63 ms\n",
      "'mutation'  1109.52 ms\n",
      "generation 1\n",
      "'calc_fitness'  8943.69 ms\n",
      "Best fitness: 480.15929760686066 index 19\n",
      "plotting clear area\n",
      "adding 3000 clear polygons to plot\n",
      "saved image: /Users/callum/Desktop/ECCC/optimal_coverings/images_and_output/gen_1.png\n",
      "'plot_member'  970.18 ms\n",
      "checking 45 pairings\n",
      "each with 10 arrangements\n",
      "'calc_fitness'  4237.81 ms\n"
     ]
    },
    {
     "name": "stderr",
     "output_type": "stream",
     "text": [
      "TopologyException: side location conflict at 112.8125 65.89107653869263\n"
     ]
    },
    {
     "name": "stdout",
     "output_type": "stream",
     "text": [
      "This operation could not be performed. Reason: unknown\n",
      "something messed up in the geometry module...\n",
      "'calc_fitness'  4257.81 ms\n",
      "'calc_fitness'  3837.26 ms\n",
      "'calc_fitness'  4052.59 ms\n"
     ]
    },
    {
     "name": "stderr",
     "output_type": "stream",
     "text": [
      "TopologyException: side location conflict at 112.8125 65.891076538692644\n"
     ]
    },
    {
     "name": "stdout",
     "output_type": "stream",
     "text": [
      "This operation could not be performed. Reason: unknown\n",
      "something messed up in the geometry module...\n",
      "'calc_fitness'  4090.48 ms\n"
     ]
    },
    {
     "name": "stderr",
     "output_type": "stream",
     "text": [
      "TopologyException: side location conflict at 112.8125 65.89107653869263\n"
     ]
    },
    {
     "name": "stdout",
     "output_type": "stream",
     "text": [
      "This operation could not be performed. Reason: unknown\n",
      "something messed up in the geometry module...\n",
      "'calc_fitness'  4178.21 ms\n",
      "'calc_fitness'  4231.00 ms\n",
      "'calc_fitness'  3809.52 ms\n",
      "'calc_fitness'  3827.27 ms\n",
      "'calc_fitness'  4341.75 ms\n"
     ]
    },
    {
     "name": "stderr",
     "output_type": "stream",
     "text": [
      "TopologyException: side location conflict at 110.9375 64.344334559500496\n"
     ]
    },
    {
     "name": "stdout",
     "output_type": "stream",
     "text": [
      "This operation could not be performed. Reason: unknown\n",
      "something messed up in the geometry module...\n",
      "'calc_fitness'  4502.32 ms\n",
      "'calc_fitness'  4235.77 ms\n",
      "'calc_fitness'  4160.74 ms\n",
      "'calc_fitness'  4193.50 ms\n",
      "'calc_fitness'  4473.97 ms\n",
      "'calc_fitness'  4182.10 ms\n",
      "'calc_fitness'  4685.03 ms\n",
      "'calc_fitness'  4130.68 ms\n",
      "'calc_fitness'  5140.71 ms\n",
      "'calc_fitness'  5023.03 ms\n",
      "'calc_fitness'  4851.22 ms\n",
      "'calc_fitness'  4081.92 ms\n",
      "'calc_fitness'  4362.52 ms\n"
     ]
    },
    {
     "name": "stderr",
     "output_type": "stream",
     "text": [
      "TopologyException: side location conflict at 112.8125 65.891076538692644\n"
     ]
    },
    {
     "name": "stdout",
     "output_type": "stream",
     "text": [
      "This operation could not be performed. Reason: unknown\n",
      "something messed up in the geometry module...\n"
     ]
    },
    {
     "name": "stderr",
     "output_type": "stream",
     "text": [
      "TopologyException: side location conflict at 112.8125 65.89107653869263\n"
     ]
    },
    {
     "name": "stdout",
     "output_type": "stream",
     "text": [
      "This operation could not be performed. Reason: unknown\n",
      "something messed up in the geometry module...\n",
      "'calc_fitness'  4401.17 ms\n",
      "'calc_fitness'  4386.60 ms\n",
      "'calc_fitness'  4958.55 ms\n",
      "'calc_fitness'  4860.36 ms\n",
      "'calc_fitness'  4188.23 ms\n",
      "'calc_fitness'  4046.88 ms\n",
      "'calc_fitness'  4500.64 ms\n",
      "'calc_fitness'  4362.16 ms\n",
      "'calc_fitness'  4079.68 ms\n"
     ]
    },
    {
     "name": "stderr",
     "output_type": "stream",
     "text": [
      "TopologyException: Input geom 0 is invalid: Nested shells at or near point -46.499495418273838 70.335428040374097 at -46.499495418273838 70.335428040374097\n"
     ]
    },
    {
     "name": "stdout",
     "output_type": "stream",
     "text": [
      "The operation 'GEOSIntersection_r' could not be performed. Likely cause is invalidity of the geometry <shapely.geometry.multipolygon.MultiPolygon object at 0xb1a4dbb10>\n",
      "something messed up in the geometry module...\n",
      "'calc_fitness'  4063.24 ms\n",
      "'calc_fitness'  4518.96 ms\n",
      "'calc_fitness'  4954.64 ms\n",
      "'calc_fitness'  4588.15 ms\n",
      "'calc_fitness'  4108.89 ms\n",
      "'calc_fitness'  4268.25 ms\n"
     ]
    },
    {
     "name": "stderr",
     "output_type": "stream",
     "text": [
      "TopologyException: side location conflict at 112.8125 65.89107653869263\n"
     ]
    },
    {
     "name": "stdout",
     "output_type": "stream",
     "text": [
      "This operation could not be performed. Reason: unknown\n",
      "something messed up in the geometry module...\n"
     ]
    },
    {
     "name": "stderr",
     "output_type": "stream",
     "text": [
      "TopologyException: side location conflict at 112.8125 65.89107653869263\n"
     ]
    },
    {
     "name": "stdout",
     "output_type": "stream",
     "text": [
      "This operation could not be performed. Reason: unknown\n",
      "something messed up in the geometry module...\n",
      "'calc_fitness'  4456.35 ms\n",
      "'calc_fitness'  3694.39 ms\n"
     ]
    },
    {
     "name": "stderr",
     "output_type": "stream",
     "text": [
      "TopologyException: side location conflict at 112.8125 65.89107653869263\n"
     ]
    },
    {
     "name": "stdout",
     "output_type": "stream",
     "text": [
      "'calc_fitness'  4046.51 ms\n",
      "This operation could not be performed. Reason: unknown\n",
      "something messed up in the geometry module...\n"
     ]
    },
    {
     "name": "stderr",
     "output_type": "stream",
     "text": [
      "TopologyException: side location conflict at 112.8125 65.891076538692644\n"
     ]
    },
    {
     "name": "stdout",
     "output_type": "stream",
     "text": [
      "This operation could not be performed. Reason: unknown\n",
      "something messed up in the geometry module...\n",
      "'calc_fitness'  4342.22 ms\n",
      "'calc_fitness'  3961.04 ms\n",
      "'calc_fitness'  4565.33 ms\n",
      "'calc_fitness'  4301.98 ms\n",
      "'offspring'  195658.62 ms\n",
      "'mutation'  1297.59 ms\n",
      "generation 2\n",
      "'calc_fitness'  8823.20 ms\n",
      "Best fitness: 519.1656974165411 index 15\n",
      "plotting clear area\n",
      "adding 3000 clear polygons to plot\n",
      "saved image: /Users/callum/Desktop/ECCC/optimal_coverings/images_and_output/gen_2.png\n",
      "'plot_member'  730.70 ms\n",
      "checking 45 pairings\n",
      "each with 10 arrangements\n",
      "'calc_fitness'  3764.73 ms\n",
      "'calc_fitness'  4097.32 ms\n",
      "'calc_fitness'  4175.77 ms\n",
      "'calc_fitness'  4136.70 ms\n",
      "'calc_fitness'  4081.66 ms\n",
      "'calc_fitness'  4016.58 ms\n"
     ]
    },
    {
     "name": "stderr",
     "output_type": "stream",
     "text": [
      "TopologyException: side location conflict at 112.8125 65.891076538692644\n"
     ]
    },
    {
     "name": "stdout",
     "output_type": "stream",
     "text": [
      "'calc_fitness'  4128.93 ms\n",
      "This operation could not be performed. Reason: unknown\n",
      "something messed up in the geometry module...\n",
      "'calc_fitness'  4307.65 ms\n",
      "'calc_fitness'  3956.48 ms\n",
      "'calc_fitness'  4110.99 ms\n",
      "'calc_fitness'  4171.08 ms\n",
      "'calc_fitness'  4350.62 ms\n",
      "'calc_fitness'  4242.75 ms\n",
      "'calc_fitness'  3735.20 ms\n",
      "'calc_fitness'  4081.25 ms\n",
      "'calc_fitness'  4264.05 ms\n",
      "'calc_fitness'  4236.14 ms\n",
      "'calc_fitness'  4517.69 ms\n",
      "'calc_fitness'  4253.30 ms\n",
      "'calc_fitness'  4033.34 ms\n",
      "'calc_fitness'  3975.56 ms\n",
      "'calc_fitness'  4258.61 ms\n",
      "'calc_fitness'  4141.31 ms\n",
      "'calc_fitness'  3981.42 ms\n",
      "'calc_fitness'  4422.33 ms\n",
      "'calc_fitness'  4239.18 ms\n",
      "'calc_fitness'  4354.10 ms\n",
      "'calc_fitness'  3950.72 ms\n",
      "'calc_fitness'  3596.71 ms\n",
      "'calc_fitness'  4119.52 ms\n",
      "'calc_fitness'  3731.10 ms\n",
      "'calc_fitness'  3800.92 ms\n",
      "'calc_fitness'  4322.69 ms\n",
      "'calc_fitness'  4650.63 ms\n",
      "'calc_fitness'  4235.23 ms\n",
      "'calc_fitness'  3499.50 ms\n",
      "'calc_fitness'  4365.83 ms\n",
      "'calc_fitness'  4331.71 ms\n",
      "'calc_fitness'  3777.36 ms\n",
      "'calc_fitness'  4155.42 ms\n",
      "'calc_fitness'  4280.46 ms\n",
      "'calc_fitness'  3631.63 ms\n",
      "'calc_fitness'  3527.52 ms\n",
      "'calc_fitness'  3962.60 ms\n",
      "'calc_fitness'  4105.38 ms\n",
      "'offspring'  184919.65 ms\n",
      "'mutation'  1199.67 ms\n",
      "generation 3\n",
      "'calc_fitness'  8982.14 ms\n",
      "Best fitness: 522.062635165957 index 17\n",
      "plotting clear area\n",
      "adding 3000 clear polygons to plot\n",
      "saved image: /Users/callum/Desktop/ECCC/optimal_coverings/images_and_output/gen_3.png\n",
      "'plot_member'  705.44 ms\n",
      "checking 45 pairings\n",
      "each with 10 arrangements\n",
      "'calc_fitness'  3905.03 ms\n",
      "'calc_fitness'  3960.91 ms\n",
      "'calc_fitness'  3799.96 ms\n",
      "'calc_fitness'  3829.38 ms\n",
      "'calc_fitness'  4019.27 ms\n",
      "'calc_fitness'  4140.27 ms\n",
      "'calc_fitness'  3838.16 ms\n",
      "'calc_fitness'  3920.32 ms\n",
      "'calc_fitness'  4182.03 ms\n",
      "'calc_fitness'  3686.30 ms\n",
      "'calc_fitness'  3753.05 ms\n"
     ]
    },
    {
     "name": "stderr",
     "output_type": "stream",
     "text": [
      "TopologyException: side location conflict at 112.8125 65.89107653869263\n"
     ]
    },
    {
     "name": "stdout",
     "output_type": "stream",
     "text": [
      "This operation could not be performed. Reason: unknown\n",
      "something messed up in the geometry module...\n"
     ]
    },
    {
     "name": "stderr",
     "output_type": "stream",
     "text": [
      "TopologyException: side location conflict at 112.8125 65.891076538692644\n"
     ]
    },
    {
     "name": "stdout",
     "output_type": "stream",
     "text": [
      "This operation could not be performed. Reason: unknown\n",
      "something messed up in the geometry module...\n",
      "'calc_fitness'  4488.94 ms\n",
      "'calc_fitness'  4323.48 ms\n",
      "'calc_fitness'  4075.41 ms\n",
      "'calc_fitness'  4352.32 ms\n",
      "'calc_fitness'  4082.30 ms\n",
      "'calc_fitness'  3987.53 ms\n",
      "'calc_fitness'  3857.95 ms\n"
     ]
    },
    {
     "name": "stderr",
     "output_type": "stream",
     "text": [
      "TopologyException: side location conflict at 112.8125 65.89107653869263\n"
     ]
    },
    {
     "name": "stdout",
     "output_type": "stream",
     "text": [
      "This operation could not be performed. Reason: unknown\n",
      "something messed up in the geometry module...\n",
      "'calc_fitness'  4867.13 ms\n",
      "'calc_fitness'  4501.73 ms\n",
      "'calc_fitness'  5201.07 ms\n",
      "'calc_fitness'  5057.88 ms\n",
      "'calc_fitness'  5227.06 ms\n",
      "'calc_fitness'  5639.30 ms\n",
      "'calc_fitness'  5406.68 ms\n",
      "'calc_fitness'  5908.02 ms\n",
      "'calc_fitness'  4915.29 ms\n",
      "'calc_fitness'  4995.15 ms\n",
      "'calc_fitness'  4639.45 ms\n",
      "'calc_fitness'  4554.87 ms\n",
      "'calc_fitness'  4603.91 ms\n",
      "'calc_fitness'  5121.49 ms\n",
      "'calc_fitness'  5310.01 ms\n",
      "'calc_fitness'  5761.78 ms\n",
      "'calc_fitness'  5973.51 ms\n",
      "'calc_fitness'  3943.77 ms\n",
      "'calc_fitness'  5584.85 ms\n",
      "'calc_fitness'  5124.62 ms\n",
      "'calc_fitness'  4763.54 ms\n",
      "'calc_fitness'  4259.33 ms\n",
      "'calc_fitness'  5188.73 ms\n",
      "'calc_fitness'  7165.82 ms\n",
      "'calc_fitness'  6263.52 ms\n",
      "'calc_fitness'  6017.89 ms\n",
      "'calc_fitness'  4730.61 ms\n",
      "'offspring'  213774.02 ms\n",
      "'mutation'  1200.97 ms\n",
      "generation 4\n",
      "'calc_fitness'  9229.75 ms\n",
      "Best fitness: 533.6925654464657 index 15\n",
      "plotting clear area\n",
      "adding 3000 clear polygons to plot\n",
      "saved image: /Users/callum/Desktop/ECCC/optimal_coverings/images_and_output/gen_4.png\n",
      "'plot_member'  710.62 ms\n",
      "checking 45 pairings\n",
      "each with 10 arrangements\n",
      "'calc_fitness'  4307.54 ms\n",
      "'calc_fitness'  4208.42 ms\n",
      "'calc_fitness'  4415.38 ms\n",
      "'calc_fitness'  4062.99 ms\n",
      "'calc_fitness'  4165.97 ms\n",
      "'calc_fitness'  4391.25 ms\n",
      "'calc_fitness'  5447.39 ms\n",
      "'calc_fitness'  5841.41 ms\n",
      "'calc_fitness'  5560.95 ms\n",
      "'calc_fitness'  4949.32 ms\n",
      "'calc_fitness'  4933.44 ms\n",
      "'calc_fitness'  4362.39 ms\n",
      "'calc_fitness'  4132.48 ms\n",
      "'calc_fitness'  5180.78 ms\n",
      "'calc_fitness'  4771.56 ms\n",
      "'calc_fitness'  4229.25 ms\n",
      "'calc_fitness'  4862.78 ms\n",
      "'calc_fitness'  3602.34 ms\n",
      "'calc_fitness'  3999.76 ms\n",
      "'calc_fitness'  4389.15 ms\n",
      "'calc_fitness'  4098.62 ms\n",
      "'calc_fitness'  3820.84 ms\n",
      "'calc_fitness'  4041.93 ms\n",
      "'calc_fitness'  3963.98 ms\n",
      "'calc_fitness'  4603.42 ms\n",
      "'calc_fitness'  4343.08 ms\n",
      "'calc_fitness'  4423.79 ms\n",
      "'calc_fitness'  3615.66 ms\n",
      "'calc_fitness'  3730.52 ms\n",
      "'calc_fitness'  4082.44 ms\n",
      "'calc_fitness'  3429.72 ms\n",
      "'calc_fitness'  3831.89 ms\n",
      "'calc_fitness'  3679.00 ms\n",
      "'calc_fitness'  3722.76 ms\n",
      "'calc_fitness'  3771.62 ms\n",
      "'calc_fitness'  3850.26 ms\n",
      "'calc_fitness'  4070.46 ms\n",
      "'calc_fitness'  3599.77 ms\n",
      "'calc_fitness'  3836.83 ms\n",
      "'calc_fitness'  4018.59 ms\n",
      "'calc_fitness'  3738.80 ms\n",
      "'calc_fitness'  3768.93 ms\n",
      "'calc_fitness'  3720.94 ms\n",
      "'calc_fitness'  4147.21 ms\n",
      "'calc_fitness'  3619.75 ms\n",
      "'offspring'  190207.98 ms\n",
      "'mutation'  1398.27 ms\n",
      "generation 5\n",
      "'calc_fitness'  8695.00 ms\n",
      "Best fitness: 533.6925654464657 index 0\n",
      "plotting clear area\n",
      "adding 3000 clear polygons to plot\n",
      "saved image: /Users/callum/Desktop/ECCC/optimal_coverings/images_and_output/gen_5.png\n",
      "'plot_member'  707.47 ms\n",
      "checking 45 pairings\n",
      "each with 10 arrangements\n",
      "'calc_fitness'  3881.98 ms\n",
      "'calc_fitness'  3595.09 ms\n",
      "'calc_fitness'  3462.42 ms\n",
      "'calc_fitness'  3787.48 ms\n",
      "'calc_fitness'  3894.37 ms\n",
      "'calc_fitness'  3471.07 ms\n",
      "'calc_fitness'  4755.61 ms\n",
      "'calc_fitness'  5238.52 ms\n",
      "'calc_fitness'  5078.98 ms\n",
      "'calc_fitness'  4201.17 ms\n",
      "'calc_fitness'  4371.69 ms\n",
      "'calc_fitness'  5048.33 ms\n",
      "'calc_fitness'  5402.95 ms\n",
      "'calc_fitness'  5938.77 ms\n",
      "'calc_fitness'  6519.39 ms\n",
      "'calc_fitness'  4314.91 ms\n",
      "'calc_fitness'  4397.40 ms\n",
      "'calc_fitness'  3698.49 ms\n",
      "'calc_fitness'  3762.34 ms\n",
      "'calc_fitness'  3739.70 ms\n",
      "'calc_fitness'  3773.11 ms\n",
      "'calc_fitness'  3886.92 ms\n"
     ]
    },
    {
     "name": "stderr",
     "output_type": "stream",
     "text": [
      "TopologyException: Input geom 0 is invalid: Nested shells at or near point -41.291546148748523 70.860314603001214 at -41.291546148748523 70.860314603001214\n",
      "TopologyException: Input geom 0 is invalid: Nested shells at or near point -41.291546148748523 70.860314603001214 at -41.291546148748523 70.860314603001214\n"
     ]
    },
    {
     "name": "stdout",
     "output_type": "stream",
     "text": [
      "The operation 'GEOSDifference_r' could not be performed. Likely cause is invalidity of the geometry <shapely.geometry.multipolygon.MultiPolygon object at 0x1180ecbd0>\n",
      "something messed up in the geometry module...\n",
      "The operation 'GEOSDifference_r' could not be performed. Likely cause is invalidity of the geometry <shapely.geometry.multipolygon.MultiPolygon object at 0x1180ecd10>\n",
      "something messed up in the geometry module...\n",
      "'calc_fitness'  3846.97 ms\n",
      "'calc_fitness'  4093.75 ms\n",
      "'calc_fitness'  4361.99 ms\n",
      "'calc_fitness'  4303.87 ms\n",
      "'calc_fitness'  3925.44 ms\n",
      "'calc_fitness'  4013.14 ms\n",
      "'calc_fitness'  3604.36 ms\n",
      "'calc_fitness'  4084.53 ms\n",
      "'calc_fitness'  3503.12 ms\n",
      "'calc_fitness'  3927.88 ms\n",
      "'calc_fitness'  3941.63 ms\n",
      "'calc_fitness'  4076.30 ms\n",
      "'calc_fitness'  4229.65 ms\n",
      "'calc_fitness'  4098.06 ms\n",
      "'calc_fitness'  4033.61 ms\n",
      "'calc_fitness'  3817.04 ms\n",
      "'calc_fitness'  4161.97 ms\n",
      "'calc_fitness'  4112.44 ms\n",
      "'calc_fitness'  3988.09 ms\n",
      "'calc_fitness'  4775.28 ms\n",
      "'calc_fitness'  3869.56 ms\n",
      "'calc_fitness'  3848.38 ms\n",
      "'calc_fitness'  3958.58 ms\n",
      "'offspring'  189751.97 ms\n",
      "'mutation'  1089.04 ms\n",
      "generation 6\n",
      "'calc_fitness'  8403.80 ms\n",
      "Best fitness: 533.6925654464657 index 0\n",
      "plotting clear area\n",
      "adding 3000 clear polygons to plot\n",
      "saved image: /Users/callum/Desktop/ECCC/optimal_coverings/images_and_output/gen_6.png\n",
      "'plot_member'  695.51 ms\n",
      "checking 45 pairings\n",
      "each with 10 arrangements\n",
      "'calc_fitness'  3404.69 ms\n",
      "'calc_fitness'  3176.60 ms\n",
      "'calc_fitness'  3535.12 ms\n",
      "'calc_fitness'  3217.17 ms\n",
      "'calc_fitness'  3345.34 ms\n",
      "'calc_fitness'  3574.05 ms\n",
      "'calc_fitness'  3638.35 ms\n",
      "'calc_fitness'  3625.67 ms\n",
      "'calc_fitness'  3761.99 ms\n",
      "'calc_fitness'  3219.64 ms\n",
      "'calc_fitness'  3174.00 ms\n",
      "'calc_fitness'  3498.67 ms\n",
      "'calc_fitness'  3290.57 ms\n",
      "'calc_fitness'  4267.40 ms\n",
      "'calc_fitness'  3594.64 ms\n",
      "'calc_fitness'  3601.00 ms\n",
      "'calc_fitness'  3888.96 ms\n",
      "'calc_fitness'  3423.72 ms\n",
      "'calc_fitness'  3394.33 ms\n",
      "'calc_fitness'  3463.77 ms\n",
      "'calc_fitness'  3518.77 ms\n",
      "'calc_fitness'  3607.72 ms\n",
      "'calc_fitness'  3637.42 ms\n",
      "'calc_fitness'  3841.70 ms\n",
      "'calc_fitness'  3294.70 ms\n",
      "'calc_fitness'  3458.34 ms\n",
      "'calc_fitness'  3799.70 ms\n",
      "'calc_fitness'  3808.55 ms\n",
      "'calc_fitness'  3406.92 ms\n",
      "'calc_fitness'  3873.08 ms\n",
      "'calc_fitness'  3245.49 ms\n",
      "'calc_fitness'  3370.38 ms\n",
      "'calc_fitness'  3564.21 ms\n",
      "'calc_fitness'  3605.49 ms\n",
      "'calc_fitness'  3908.43 ms\n",
      "'calc_fitness'  3637.74 ms\n",
      "'calc_fitness'  3646.85 ms\n",
      "'calc_fitness'  3789.95 ms\n",
      "'calc_fitness'  3812.27 ms\n",
      "'calc_fitness'  4013.12 ms\n",
      "'calc_fitness'  3819.14 ms\n",
      "'calc_fitness'  3637.13 ms\n",
      "'calc_fitness'  3311.25 ms\n",
      "'calc_fitness'  3715.54 ms\n",
      "'calc_fitness'  3875.71 ms\n",
      "'offspring'  162181.83 ms\n",
      "'mutation'  1402.92 ms\n",
      "generation 7\n",
      "'calc_fitness'  8404.88 ms\n",
      "Best fitness: 533.6925654464657 index 0\n",
      "plotting clear area\n",
      "adding 3000 clear polygons to plot\n",
      "saved image: /Users/callum/Desktop/ECCC/optimal_coverings/images_and_output/gen_7.png\n",
      "'plot_member'  748.22 ms\n",
      "checking 45 pairings\n",
      "each with 10 arrangements\n",
      "'calc_fitness'  3952.61 ms\n",
      "'calc_fitness'  3740.90 ms\n",
      "'calc_fitness'  3683.31 ms\n",
      "'calc_fitness'  4234.44 ms\n",
      "'calc_fitness'  3886.56 ms\n",
      "'calc_fitness'  4832.55 ms\n",
      "'calc_fitness'  3532.10 ms\n",
      "'calc_fitness'  3528.03 ms\n",
      "'calc_fitness'  3783.17 ms\n",
      "'calc_fitness'  3462.74 ms\n",
      "'calc_fitness'  3600.73 ms\n",
      "'calc_fitness'  3833.67 ms\n",
      "'calc_fitness'  4059.57 ms\n",
      "'calc_fitness'  3716.26 ms\n",
      "'calc_fitness'  3339.55 ms\n",
      "'calc_fitness'  4004.06 ms\n",
      "'calc_fitness'  3625.87 ms\n",
      "'calc_fitness'  3576.27 ms\n",
      "'calc_fitness'  3617.63 ms\n",
      "'calc_fitness'  3464.08 ms\n",
      "'calc_fitness'  3575.54 ms\n",
      "'calc_fitness'  3848.88 ms\n",
      "'calc_fitness'  3676.20 ms\n",
      "'calc_fitness'  3774.41 ms\n",
      "'calc_fitness'  3743.60 ms\n",
      "'calc_fitness'  3660.98 ms\n",
      "'calc_fitness'  4097.27 ms\n",
      "'calc_fitness'  4428.48 ms\n",
      "'calc_fitness'  4332.25 ms\n",
      "'calc_fitness'  4364.80 ms\n",
      "'calc_fitness'  3586.20 ms\n",
      "'calc_fitness'  3745.85 ms\n",
      "'calc_fitness'  3316.09 ms\n",
      "'calc_fitness'  3496.79 ms\n",
      "'calc_fitness'  3597.00 ms\n",
      "'calc_fitness'  3390.02 ms\n",
      "'calc_fitness'  3190.40 ms\n",
      "'calc_fitness'  3400.88 ms\n",
      "'calc_fitness'  3905.77 ms\n",
      "'calc_fitness'  3650.70 ms\n",
      "'calc_fitness'  3964.10 ms\n",
      "'calc_fitness'  3823.79 ms\n",
      "'calc_fitness'  4239.19 ms\n",
      "'calc_fitness'  4255.58 ms\n",
      "'calc_fitness'  3660.75 ms\n",
      "'offspring'  171101.98 ms\n",
      "'mutation'  1360.85 ms\n",
      "generation 8\n",
      "'calc_fitness'  9351.93 ms\n",
      "Best fitness: 538.0167465524942 index 13\n",
      "plotting clear area\n",
      "adding 3000 clear polygons to plot\n",
      "saved image: /Users/callum/Desktop/ECCC/optimal_coverings/images_and_output/gen_8.png\n",
      "'plot_member'  847.50 ms\n",
      "checking 45 pairings\n",
      "each with 10 arrangements\n",
      "'calc_fitness'  3425.51 ms\n"
     ]
    },
    {
     "name": "stderr",
     "output_type": "stream",
     "text": [
      "TopologyException: found non-noded intersection between LINESTRING (-168.426 66.9636, -175.55 66.9677) and LINESTRING (-168.426 66.9636, -168.426 66.9636) at -168.42573099674746 66.963615305470782\n",
      "TopologyException: found non-noded intersection between LINESTRING (-168.426 66.9636, -175.55 66.9677) and LINESTRING (-168.426 66.9636, -168.426 66.9636) at -168.42573099674746 66.963615305470782\n"
     ]
    },
    {
     "name": "stdout",
     "output_type": "stream",
     "text": [
      "This operation could not be performed. Reason: unknown\n",
      "something messed up in the geometry module...\n",
      "This operation could not be performed. Reason: unknown\n",
      "something messed up in the geometry module...\n",
      "'calc_fitness'  3701.98 ms\n",
      "'calc_fitness'  3840.92 ms\n"
     ]
    },
    {
     "name": "stderr",
     "output_type": "stream",
     "text": [
      "TopologyException: found non-noded intersection between LINESTRING (-168.426 66.9636, -175.55 66.9677) and LINESTRING (-168.426 66.9636, -168.426 66.9636) at -168.42573099674746 66.963615305470782\n",
      "TopologyException: found non-noded intersection between LINESTRING (-168.426 66.9636, -175.55 66.9677) and LINESTRING (-168.426 66.9636, -168.426 66.9636) at -168.42573099674746 66.963615305470782\n"
     ]
    },
    {
     "name": "stdout",
     "output_type": "stream",
     "text": [
      "This operation could not be performed. Reason: unknown\n",
      "something messed up in the geometry module...\n",
      "This operation could not be performed. Reason: unknown\n",
      "something messed up in the geometry module...\n",
      "'calc_fitness'  3945.46 ms\n"
     ]
    },
    {
     "name": "stderr",
     "output_type": "stream",
     "text": [
      "TopologyException: found non-noded intersection between LINESTRING (-168.426 66.9636, -175.55 66.9677) and LINESTRING (-168.426 66.9636, -168.426 66.9636) at -168.42573099674746 66.963615305470782\n"
     ]
    },
    {
     "name": "stdout",
     "output_type": "stream",
     "text": [
      "'calc_fitness'  4016.00 ms\n",
      "This operation could not be performed. Reason: unknown\n",
      "something messed up in the geometry module...\n"
     ]
    },
    {
     "name": "stderr",
     "output_type": "stream",
     "text": [
      "TopologyException: found non-noded intersection between LINESTRING (-168.426 66.9636, -175.55 66.9677) and LINESTRING (-168.426 66.9636, -168.426 66.9636) at -168.42573099674746 66.963615305470782\n"
     ]
    },
    {
     "name": "stdout",
     "output_type": "stream",
     "text": [
      "This operation could not be performed. Reason: unknown\n",
      "something messed up in the geometry module...\n"
     ]
    },
    {
     "name": "stderr",
     "output_type": "stream",
     "text": [
      "TopologyException: found non-noded intersection between LINESTRING (-168.426 66.9636, -175.55 66.9677) and LINESTRING (-168.426 66.9636, -168.426 66.9636) at -168.42573099674746 66.963615305470782\n",
      "TopologyException: found non-noded intersection between LINESTRING (-168.426 66.9636, -175.55 66.9677) and LINESTRING (-168.426 66.9636, -168.426 66.9636) at -168.42573099674746 66.963615305470782\n"
     ]
    },
    {
     "name": "stdout",
     "output_type": "stream",
     "text": [
      "This operation could not be performed. Reason: unknown\n",
      "something messed up in the geometry module...\n",
      "This operation could not be performed. Reason: unknown\n",
      "something messed up in the geometry module...\n",
      "'calc_fitness'  4146.00 ms\n"
     ]
    },
    {
     "name": "stderr",
     "output_type": "stream",
     "text": [
      "TopologyException: found non-noded intersection between LINESTRING (-168.426 66.9636, -175.55 66.9677) and LINESTRING (-168.426 66.9636, -168.426 66.9636) at -168.42573099674746 66.963615305470782\n"
     ]
    },
    {
     "name": "stdout",
     "output_type": "stream",
     "text": [
      "This operation could not be performed. Reason: unknown\n",
      "something messed up in the geometry module...\n"
     ]
    },
    {
     "name": "stderr",
     "output_type": "stream",
     "text": [
      "TopologyException: found non-noded intersection between LINESTRING (-168.426 66.9636, -175.55 66.9677) and LINESTRING (-168.426 66.9636, -168.426 66.9636) at -168.42573099674746 66.963615305470782\n"
     ]
    },
    {
     "name": "stdout",
     "output_type": "stream",
     "text": [
      "This operation could not be performed. Reason: unknown\n",
      "something messed up in the geometry module...\n",
      "'calc_fitness'  3901.24 ms\n"
     ]
    },
    {
     "name": "stderr",
     "output_type": "stream",
     "text": [
      "TopologyException: found non-noded intersection between LINESTRING (-168.426 66.9636, -175.55 66.9677) and LINESTRING (-168.426 66.9636, -168.426 66.9636) at -168.42573099674746 66.963615305470782\n",
      "TopologyException: found non-noded intersection between LINESTRING (-168.426 66.9636, -175.55 66.9677) and LINESTRING (-168.426 66.9636, -168.426 66.9636) at -168.42573099674746 66.963615305470782\n"
     ]
    },
    {
     "name": "stdout",
     "output_type": "stream",
     "text": [
      "This operation could not be performed. Reason: unknown\n",
      "something messed up in the geometry module...\n",
      "This operation could not be performed. Reason: unknown\n",
      "something messed up in the geometry module...\n",
      "'calc_fitness'  3743.33 ms\n",
      "'calc_fitness'  4035.99 ms\n",
      "'calc_fitness'  4475.96 ms\n",
      "'calc_fitness'  3547.23 ms\n",
      "'calc_fitness'  3258.28 ms\n",
      "'calc_fitness'  3500.86 ms\n",
      "'calc_fitness'  3058.55 ms\n",
      "'calc_fitness'  3357.81 ms\n",
      "'calc_fitness'  3248.48 ms\n",
      "'calc_fitness'  3528.41 ms\n",
      "'calc_fitness'  3462.96 ms\n",
      "'calc_fitness'  3421.60 ms\n",
      "'calc_fitness'  3522.05 ms\n",
      "'calc_fitness'  5829.49 ms\n",
      "'calc_fitness'  5043.93 ms\n",
      "'calc_fitness'  3797.92 ms\n",
      "'calc_fitness'  4897.22 ms\n",
      "'calc_fitness'  4110.42 ms\n",
      "'calc_fitness'  4090.97 ms\n",
      "'calc_fitness'  3858.65 ms\n",
      "'calc_fitness'  4193.72 ms\n",
      "'calc_fitness'  3934.40 ms\n",
      "'calc_fitness'  4400.70 ms\n",
      "'calc_fitness'  5193.72 ms\n",
      "'calc_fitness'  5804.59 ms\n",
      "'calc_fitness'  4205.93 ms\n",
      "'calc_fitness'  3571.91 ms\n",
      "'calc_fitness'  3966.62 ms\n",
      "'calc_fitness'  3687.94 ms\n",
      "'calc_fitness'  3992.28 ms\n",
      "'calc_fitness'  4059.65 ms\n",
      "'calc_fitness'  5464.66 ms\n",
      "'calc_fitness'  3407.81 ms\n",
      "'calc_fitness'  3952.55 ms\n",
      "'calc_fitness'  3889.93 ms\n",
      "'calc_fitness'  3479.39 ms\n",
      "'calc_fitness'  3483.78 ms\n",
      "'calc_fitness'  3707.41 ms\n",
      "'offspring'  180015.98 ms\n",
      "'mutation'  1281.26 ms\n",
      "generation 9\n",
      "'calc_fitness'  8895.75 ms\n",
      "Best fitness: 538.0167465524942 index 0\n",
      "plotting clear area\n",
      "adding 3000 clear polygons to plot\n",
      "saved image: /Users/callum/Desktop/ECCC/optimal_coverings/images_and_output/gen_9.png\n",
      "'plot_member'  900.48 ms\n",
      "checking 45 pairings\n",
      "each with 10 arrangements\n",
      "'calc_fitness'  3934.08 ms\n",
      "'calc_fitness'  4444.70 ms\n",
      "'calc_fitness'  4402.64 ms\n",
      "'calc_fitness'  3631.55 ms\n",
      "'calc_fitness'  3662.42 ms\n",
      "'calc_fitness'  3574.37 ms\n",
      "'calc_fitness'  3405.75 ms\n",
      "'calc_fitness'  4301.78 ms\n",
      "'calc_fitness'  4502.51 ms\n",
      "'calc_fitness'  3410.32 ms\n",
      "'calc_fitness'  3435.16 ms\n"
     ]
    },
    {
     "name": "stderr",
     "output_type": "stream",
     "text": [
      "TopologyException: found non-noded intersection between LINESTRING (-168.426 66.9636, -175.55 66.9677) and LINESTRING (-168.426 66.9636, -168.426 66.9636) at -168.42573099674746 66.963615305470782\n"
     ]
    },
    {
     "name": "stdout",
     "output_type": "stream",
     "text": [
      "This operation could not be performed. Reason: unknown\n",
      "something messed up in the geometry module...\n"
     ]
    },
    {
     "name": "stderr",
     "output_type": "stream",
     "text": [
      "TopologyException: found non-noded intersection between LINESTRING (-168.426 66.9636, -175.55 66.9677) and LINESTRING (-168.426 66.9636, -168.426 66.9636) at -168.42573099674746 66.963615305470782\n"
     ]
    },
    {
     "name": "stdout",
     "output_type": "stream",
     "text": [
      "This operation could not be performed. Reason: unknown\n",
      "something messed up in the geometry module...\n",
      "'calc_fitness'  4119.82 ms\n",
      "'calc_fitness'  3612.79 ms\n",
      "'calc_fitness'  3658.11 ms\n",
      "'calc_fitness'  3598.23 ms\n",
      "'calc_fitness'  3760.96 ms\n"
     ]
    },
    {
     "name": "stderr",
     "output_type": "stream",
     "text": [
      "TopologyException: found non-noded intersection between LINESTRING (-168.426 66.9636, -175.55 66.9677) and LINESTRING (-168.426 66.9636, -168.426 66.9636) at -168.42573099674746 66.963615305470782\n"
     ]
    },
    {
     "name": "stdout",
     "output_type": "stream",
     "text": [
      "This operation could not be performed. Reason: unknown\n",
      "something messed up in the geometry module...\n"
     ]
    },
    {
     "name": "stderr",
     "output_type": "stream",
     "text": [
      "TopologyException: found non-noded intersection between LINESTRING (-168.426 66.9636, -175.55 66.9677) and LINESTRING (-168.426 66.9636, -168.426 66.9636) at -168.42573099674746 66.963615305470782\n"
     ]
    },
    {
     "name": "stdout",
     "output_type": "stream",
     "text": [
      "This operation could not be performed. Reason: unknown\n",
      "something messed up in the geometry module...\n",
      "'calc_fitness'  3963.69 ms\n"
     ]
    },
    {
     "name": "stderr",
     "output_type": "stream",
     "text": [
      "TopologyException: found non-noded intersection between LINESTRING (-168.426 66.9636, -175.55 66.9677) and LINESTRING (-168.426 66.9636, -168.426 66.9636) at -168.42573099674746 66.963615305470782\n",
      "TopologyException: found non-noded intersection between LINESTRING (-168.426 66.9636, -175.55 66.9677) and LINESTRING (-168.426 66.9636, -168.426 66.9636) at -168.42573099674746 66.963615305470782\n"
     ]
    },
    {
     "name": "stdout",
     "output_type": "stream",
     "text": [
      "This operation could not be performed. Reason: unknown\n",
      "something messed up in the geometry module...\n",
      "This operation could not be performed. Reason: unknown\n",
      "something messed up in the geometry module...\n",
      "'calc_fitness'  4191.35 ms\n",
      "'calc_fitness'  3452.34 ms\n",
      "'calc_fitness'  3654.65 ms\n",
      "'calc_fitness'  3756.85 ms\n",
      "'calc_fitness'  3646.29 ms\n",
      "'calc_fitness'  3996.93 ms\n",
      "'calc_fitness'  3898.47 ms\n",
      "'calc_fitness'  3922.46 ms\n",
      "'calc_fitness'  3962.67 ms\n",
      "'calc_fitness'  3095.39 ms\n"
     ]
    },
    {
     "name": "stderr",
     "output_type": "stream",
     "text": [
      "TopologyException: found non-noded intersection between LINESTRING (-168.426 66.9636, -175.55 66.9677) and LINESTRING (-168.426 66.9636, -168.426 66.9636) at -168.42573099674746 66.963615305470782\n",
      "TopologyException: found non-noded intersection between LINESTRING (-168.426 66.9636, -175.55 66.9677) and LINESTRING (-168.426 66.9636, -168.426 66.9636) at -168.42573099674746 66.963615305470782\n"
     ]
    },
    {
     "name": "stdout",
     "output_type": "stream",
     "text": [
      "This operation could not be performed. Reason: unknown\n",
      "something messed up in the geometry module...\n",
      "This operation could not be performed. Reason: unknown\n",
      "something messed up in the geometry module...\n"
     ]
    },
    {
     "name": "stderr",
     "output_type": "stream",
     "text": [
      "TopologyException: found non-noded intersection between LINESTRING (-168.426 66.9636, -175.55 66.9677) and LINESTRING (-168.426 66.9636, -168.426 66.9636) at -168.42573099674746 66.963615305470782\n"
     ]
    },
    {
     "name": "stdout",
     "output_type": "stream",
     "text": [
      "This operation could not be performed. Reason: unknown\n",
      "something messed up in the geometry module...\n"
     ]
    },
    {
     "name": "stderr",
     "output_type": "stream",
     "text": [
      "TopologyException: found non-noded intersection between LINESTRING (-168.426 66.9636, -175.55 66.9677) and LINESTRING (-168.426 66.9636, -168.426 66.9636) at -168.42573099674746 66.963615305470782\n"
     ]
    },
    {
     "name": "stdout",
     "output_type": "stream",
     "text": [
      "This operation could not be performed. Reason: unknown\n",
      "something messed up in the geometry module...\n",
      "'calc_fitness'  4056.83 ms\n",
      "'calc_fitness'  3294.25 ms\n",
      "'calc_fitness'  4117.26 ms\n"
     ]
    },
    {
     "name": "stderr",
     "output_type": "stream",
     "text": [
      "TopologyException: found non-noded intersection between LINESTRING (-168.426 66.9636, -175.55 66.9677) and LINESTRING (-168.426 66.9636, -168.426 66.9636) at -168.42573099674746 66.963615305470782\n",
      "TopologyException: found non-noded intersection between LINESTRING (-168.426 66.9636, -175.55 66.9677) and LINESTRING (-168.426 66.9636, -168.426 66.9636) at -168.42573099674746 66.963615305470782\n"
     ]
    },
    {
     "name": "stdout",
     "output_type": "stream",
     "text": [
      "This operation could not be performed. Reason: unknown\n",
      "something messed up in the geometry module...\n",
      "This operation could not be performed. Reason: unknown\n",
      "something messed up in the geometry module...\n",
      "'calc_fitness'  3441.66 ms\n",
      "'calc_fitness'  3626.67 ms\n",
      "'calc_fitness'  3280.11 ms\n",
      "'calc_fitness'  3219.46 ms\n",
      "'calc_fitness'  3529.18 ms\n",
      "'calc_fitness'  3245.40 ms\n",
      "'calc_fitness'  3928.43 ms\n",
      "'calc_fitness'  4511.53 ms\n",
      "'calc_fitness'  4024.50 ms\n",
      "'calc_fitness'  3704.67 ms\n",
      "'calc_fitness'  3439.92 ms\n",
      "'calc_fitness'  4161.49 ms\n"
     ]
    },
    {
     "name": "stderr",
     "output_type": "stream",
     "text": [
      "TopologyException: found non-noded intersection between LINESTRING (-168.426 66.9636, -175.55 66.9677) and LINESTRING (-168.426 66.9636, -168.426 66.9636) at -168.42573099674746 66.963615305470782\n",
      "TopologyException: found non-noded intersection between LINESTRING (-168.426 66.9636, -175.55 66.9677) and LINESTRING (-168.426 66.9636, -168.426 66.9636) at -168.42573099674746 66.963615305470782\n"
     ]
    },
    {
     "name": "stdout",
     "output_type": "stream",
     "text": [
      "This operation could not be performed. Reason: unknown\n",
      "something messed up in the geometry module...\n",
      "This operation could not be performed. Reason: unknown\n",
      "something messed up in the geometry module...\n",
      "'calc_fitness'  3576.22 ms\n",
      "'calc_fitness'  4657.34 ms\n",
      "'calc_fitness'  4698.25 ms\n",
      "'offspring'  172442.66 ms\n",
      "'mutation'  1554.82 ms\n",
      "Generation :  10\n",
      "'calc_fitness'  8675.77 ms\n"
     ]
    },
    {
     "data": {
      "text/plain": [
       "array([(-135.0, 59.0), (139.375, 59.0), (131.25, 61.0), (177.5, 65.0),\n",
       "       (-166.25, 60.0), (-75.625, 46.0), (-124.375, 52.0),\n",
       "       (160.625, 62.0), (-121.875, 56.5), (123.75, 47.5), (145.625, 70.5),\n",
       "       (-53.75, 80.0), (-41.875, 73.0), (-75.625, 46.0), (-83.75, 37.5),\n",
       "       (137.5, 54.0), (179.375, 69.0), (-120.625, 49.0), (117.5, 49.5),\n",
       "       (139.375, 59.0), (160.625, 62.0), (-41.875, 73.0), (120.0, 34.0),\n",
       "       (170.0, 62.5), (-130.625, 58.0), (-76.25, 59.0), (96.875, 80.0),\n",
       "       (98.75, 75.5), (-119.375, 42.0), (174.375, 65.0)], dtype=object)"
      ]
     },
     "execution_count": 6,
     "metadata": {},
     "output_type": "execute_result"
    },
    {
     "data": {
      "text/plain": [
       "<Figure size 432x288 with 0 Axes>"
      ]
     },
     "metadata": {},
     "output_type": "display_data"
    }
   ],
   "source": [
    "import genetics\n",
    "genetics.do_genetics()"
   ]
  },
  {
   "cell_type": "markdown",
   "metadata": {},
   "source": [
    "# The final output of that last line = Our FoV selections\n",
    "\n",
    "i.e. the spots we should look to see the most unique clear visible area\n",
    "\n",
    "# Where do we go from here?\n",
    "\n",
    "- Can we improve the fitness calculation? It's slow and has some mysterious errors.\n",
    "- Can we apply other methods to find the best points?\n",
    "- Any tweaks you'd like in terms of usability?\n",
    "\n",
    "\n"
   ]
  }
 ],
 "metadata": {
  "kernelspec": {
   "display_name": "Python 3",
   "language": "python",
   "name": "python3"
  },
  "language_info": {
   "codemirror_mode": {
    "name": "ipython",
    "version": 3
   },
   "file_extension": ".py",
   "mimetype": "text/x-python",
   "name": "python",
   "nbconvert_exporter": "python",
   "pygments_lexer": "ipython3",
   "version": "3.7.5"
  }
 },
 "nbformat": 4,
 "nbformat_minor": 2
}
