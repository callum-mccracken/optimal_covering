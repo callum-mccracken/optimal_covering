{
 "cells": [
  {
   "cell_type": "markdown",
   "metadata": {},
   "source": [
    "# First make sure cloud data is downloaded for the time we care about (download if it's not)\n",
    "\n",
    "- If the data exists already, this will just initialize a couple objects that will be useful later.\n",
    "\n",
    "- If not, it will be downloaded, then those objects will be initialized.\n",
    "\n",
    "- If you want to download a whole bunch of clouds, uncomment the loop"
   ]
  },
  {
   "cell_type": "code",
   "execution_count": 6,
   "metadata": {},
   "outputs": [
    {
     "name": "stdout",
     "output_type": "stream",
     "text": [
      "'get_light_mask'  72.82 ms\n",
      "'get_clear_polys'  1083.05 ms\n"
     ]
    }
   ],
   "source": [
    "import earth_data\n",
    "import datetime as dt\n",
    "\n",
    "dtime = dt.datetime(2015, 5, 1, hour=10)\n",
    "\n",
    "# the first time you run this for a certain date,\n",
    "# it will take a lot longer than subsequent runs,\n",
    "# especially if the data for that date hasn't been downloaded yet\n",
    "clear_polys, big_clear_poly = earth_data.get_clear(dtime)\n",
    "\n",
    "# this data record goes back pretty far, like 1980ish?\n",
    "#for year in range(2014, 2019):\n",
    "#    for month in range(1, 13):\n",
    "#        earth_data.download_merra_data(year, month)\n",
    "        "
   ]
  },
  {
   "cell_type": "markdown",
   "metadata": {},
   "source": [
    "The three things that got created here are:\n",
    "\n",
    "- `dtime`: a datetime instance, see https://docs.python.org/3/library/datetime.html\n",
    "\n",
    "- `clear_polys`: an array of Polygon objects, which represent clear patches on the Earth\n",
    "\n",
    "- `big_clear_poly`: the union of clear spots, a big Polygon (or MultiPolygon or GeometryCollection)\n",
    "\n",
    "But don't really worry about those, you won't need to directly deal with them"
   ]
  },
  {
   "cell_type": "markdown",
   "metadata": {},
   "source": [
    "# Run the genetic algorithm given our input data\n",
    "\n",
    "\n",
    "There are a couple known errors here that you don't have to worry about:\n",
    "\n",
    "- `/Users/callum/opt/anaconda3/envs/optcov/lib/python3.7/site-packages/cartopy/mpl/geoaxes.py:632: UserWarning: Approximating coordinate system <cartopy._crs.Geodetic object at 0x103e6c410> with the PlateCarree projection. 'PlateCarree projection.'.format(crs))`\n",
    "  - this one is just a warning related to approximations made while plotting, I'm not sure what it even means but let's not worry about it\n",
    "\n",
    "- `TopologyException`: geometry is hard, if you can figure out how to fix these let me know. I just hope that setting all cases where I have errors to zero is OK\n"
   ]
  },
  {
   "cell_type": "code",
   "execution_count": null,
   "metadata": {},
   "outputs": [
    {
     "name": "stdout",
     "output_type": "stream",
     "text": [
      "generating population\n",
      "generation 0\n",
      "'calc_fitness'  7430.91 ms\n",
      "Best fitness: 325.10141052442987 index 9\n",
      "plotting clear area\n",
      "'get_light_mask'  106.34 ms\n",
      "'get_clear_polys'  1137.58 ms\n",
      "adding 2399 clear polygons to plot\n",
      "saved image: /Users/callum/Desktop/ECCC/optimal_coverings/images_and_output/gen_0.png\n",
      "'plot_points'  4216.62 ms\n",
      "checking 45 pairings\n",
      "each with 10 arrangements\n",
      "'calc_fitness'  4046.38 ms\n",
      "'calc_fitness'  4422.29 ms\n",
      "'calc_fitness'  4008.65 ms\n",
      "'calc_fitness'  3828.59 ms\n",
      "'calc_fitness'  4578.32 ms\n",
      "'calc_fitness'  3837.73 ms\n",
      "'calc_fitness'  3908.52 ms\n",
      "'calc_fitness'  3987.72 ms\n",
      "'calc_fitness'  3687.51 ms\n",
      "'calc_fitness'  3876.13 ms\n",
      "'calc_fitness'  3989.97 ms\n"
     ]
    }
   ],
   "source": [
    "import genetics\n",
    "genetics.num_generations = 500\n",
    "genetics.do_genetics(dtime, clear_polys, big_clear_poly)"
   ]
  },
  {
   "cell_type": "markdown",
   "metadata": {},
   "source": [
    "# The final output of that last line = the spots we should look to see the most unique clear visible area\n",
    "\n",
    "\n",
    "# Where do we go from here?\n",
    "\n",
    "- Can we improve the fitness calculation? It's slow and has some mysterious errors.\n",
    "- Can we apply other methods to find the best points?\n",
    "- Any tweaks you'd like in terms of usability?\n",
    "\n",
    "\n"
   ]
  }
 ],
 "metadata": {
  "kernelspec": {
   "display_name": "Python 3",
   "language": "python",
   "name": "python3"
  },
  "language_info": {
   "codemirror_mode": {
    "name": "ipython",
    "version": 3
   },
   "file_extension": ".py",
   "mimetype": "text/x-python",
   "name": "python",
   "nbconvert_exporter": "python",
   "pygments_lexer": "ipython3",
   "version": "3.7.4"
  }
 },
 "nbformat": 4,
 "nbformat_minor": 2
}
