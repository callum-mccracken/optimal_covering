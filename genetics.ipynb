{
 "cells": [
  {
   "cell_type": "markdown",
   "metadata": {},
   "source": [
    "# First make sure cloud data is downloaded for the time we care about (download if it's not)\n",
    "\n",
    "- If the data exists already, this will just initialize a couple objects that will be useful later.\n",
    "\n",
    "- If not, it will be downloaded, then those objects will be initialized.\n",
    "\n",
    "- If you want to download a whole bunch of clouds, uncomment the loop"
   ]
  },
  {
   "cell_type": "code",
   "execution_count": 4,
   "metadata": {},
   "outputs": [
    {
     "name": "stdout",
     "output_type": "stream",
     "text": [
      "'get_light_mask'  28.13 ms\n",
      "'get_clear_polys'  1080.48 ms\n"
     ]
    }
   ],
   "source": [
    "import earth_data\n",
    "import datetime as dt\n",
    "\n",
    "dtime = dt.datetime(2015, 5, 1, hour=10)\n",
    "\n",
    "# the first time you run this for a certain date,\n",
    "# it will take a lot longer than subsequent runs,\n",
    "# especially if the data for that date hasn't been downloaded yet\n",
    "clear_polys, big_clear_poly = earth_data.get_clear(dtime)\n",
    "\n",
    "# this data record goes back pretty far, like 1980ish?\n",
    "#for year in [2014, 2015, 2016, 2017, 2018]:\n",
    "#    for month in range(1, 13):\n",
    "#        earth_data.download_merra_data(year, month)\n",
    "        "
   ]
  },
  {
   "cell_type": "markdown",
   "metadata": {},
   "source": [
    "The three things that got created here are:\n",
    "\n",
    "- `dtime`: a datetime instance, see https://docs.python.org/3/library/datetime.html\n",
    "\n",
    "- `clear_polys`: an array of Polygon objects, which represent clear patches on the Earth\n",
    "\n",
    "- `big_clear_poly`: the union of clear spots, a big Polygon (or MultiPolygon or GeometryCollection)\n",
    "\n",
    "But don't really worry about those, you won't need to directly deal with them"
   ]
  },
  {
   "cell_type": "markdown",
   "metadata": {},
   "source": [
    "# Now it's time to run the genetic algorithm given our input data\n",
    "\n",
    "Note that we don't actually have to run the previous code to do this step, I just did that earlier so you'd know what was going on behind the scenes\n",
    "\n",
    "There are a couple known errors here that you don't have to worry about:\n",
    "\n",
    "- `/Users/callum/opt/anaconda3/envs/optcov/lib/python3.7/site-packages/cartopy/mpl/geoaxes.py:632: UserWarning: Approximating coordinate system <cartopy._crs.Geodetic object at 0x103e6c410> with the PlateCarree projection. 'PlateCarree projection.'.format(crs))`\n",
    "  - this one is just a warning related to approximations made while plotting, I'm not sure what it even means but let's not worry about it\n",
    "\n",
    "- `TopologyException`: geometry is hard, if you can figure out how to fix these let me know. I just rely on the fact that I take enough combinations that setting all cases where I have errors to zero is OK\n"
   ]
  },
  {
   "cell_type": "code",
   "execution_count": 5,
   "metadata": {},
   "outputs": [
    {
     "name": "stdout",
     "output_type": "stream",
     "text": [
      "generating population\n",
      "generation 0\n",
      "'calc_fitness'  7998.95 ms\n",
      "Best fitness: 285.4847999463185 index 17\n",
      "plotting clear area\n",
      "'get_light_mask'  28.21 ms\n",
      "'get_clear_polys'  1039.39 ms\n",
      "adding 2399 clear polygons to plot\n",
      "saved image: /Users/callum/Desktop/ECCC/optimal_coverings/images_and_output/gen_0.png\n",
      "'plot_points'  4402.51 ms\n",
      "checking 45 pairings\n",
      "each with 10 arrangements\n",
      "'calc_fitness'  4155.20 ms\n",
      "'calc_fitness'  3866.62 ms\n",
      "'calc_fitness'  3637.16 ms\n",
      "'calc_fitness'  3688.33 ms\n",
      "'calc_fitness'  4260.63 ms\n",
      "'calc_fitness'  4133.70 ms\n",
      "'calc_fitness'  4065.55 ms\n",
      "'calc_fitness'  3866.13 ms\n",
      "'calc_fitness'  3867.51 ms\n",
      "'calc_fitness'  4729.46 ms\n",
      "'calc_fitness'  3975.18 ms\n",
      "'calc_fitness'  4477.86 ms\n",
      "'calc_fitness'  4678.65 ms\n",
      "'calc_fitness'  4121.86 ms\n",
      "'calc_fitness'  3853.10 ms\n",
      "'calc_fitness'  4100.53 ms\n",
      "'calc_fitness'  4534.37 ms\n",
      "'calc_fitness'  4363.13 ms\n",
      "'calc_fitness'  5694.86 ms\n",
      "'calc_fitness'  4976.78 ms\n",
      "'calc_fitness'  5436.36 ms\n",
      "'calc_fitness'  4324.05 ms\n",
      "'calc_fitness'  3798.51 ms\n",
      "'calc_fitness'  3992.66 ms\n",
      "'calc_fitness'  4400.84 ms\n",
      "'calc_fitness'  4327.56 ms\n",
      "'calc_fitness'  3868.67 ms\n",
      "'calc_fitness'  4068.59 ms\n",
      "'calc_fitness'  5112.55 ms\n",
      "'calc_fitness'  3922.24 ms\n",
      "'calc_fitness'  3990.56 ms\n",
      "'calc_fitness'  4404.44 ms\n",
      "'calc_fitness'  4875.64 ms\n",
      "'calc_fitness'  3784.63 ms\n",
      "'calc_fitness'  4065.89 ms\n",
      "'calc_fitness'  3856.98 ms\n",
      "'calc_fitness'  3922.08 ms\n",
      "'calc_fitness'  3769.95 ms\n",
      "'calc_fitness'  3971.78 ms\n",
      "'calc_fitness'  3630.07 ms\n",
      "'calc_fitness'  3815.76 ms\n",
      "'calc_fitness'  4351.46 ms\n",
      "'calc_fitness'  3793.31 ms\n",
      "'calc_fitness'  3954.02 ms\n",
      "'calc_fitness'  4199.27 ms\n",
      "'offspring'  189797.46 ms\n",
      "'mutation'  1091.57 ms\n",
      "generation 1\n",
      "'calc_fitness'  8358.25 ms\n",
      "Best fitness: 341.20669780575207 index 13\n",
      "plotting clear area\n",
      "'get_light_mask'  95.09 ms\n",
      "'get_clear_polys'  1328.57 ms\n",
      "adding 2399 clear polygons to plot\n",
      "saved image: /Users/callum/Desktop/ECCC/optimal_coverings/images_and_output/gen_1.png\n",
      "'plot_points'  4661.93 ms\n",
      "checking 45 pairings\n",
      "each with 10 arrangements\n",
      "'calc_fitness'  4063.12 ms\n",
      "'calc_fitness'  3821.20 ms\n",
      "'calc_fitness'  3535.21 ms\n",
      "'calc_fitness'  3607.20 ms\n",
      "'calc_fitness'  3746.18 ms\n",
      "'calc_fitness'  4096.74 ms\n",
      "'calc_fitness'  3428.96 ms\n",
      "'calc_fitness'  3430.74 ms\n",
      "'calc_fitness'  3576.42 ms\n",
      "'calc_fitness'  3738.89 ms\n",
      "'calc_fitness'  4341.55 ms\n",
      "'calc_fitness'  4314.76 ms\n",
      "'calc_fitness'  3824.53 ms\n",
      "'calc_fitness'  4533.21 ms\n",
      "'calc_fitness'  3562.37 ms\n",
      "'calc_fitness'  3468.71 ms\n",
      "'calc_fitness'  3790.04 ms\n",
      "'calc_fitness'  3663.76 ms\n",
      "'calc_fitness'  3435.72 ms\n",
      "'calc_fitness'  3422.90 ms\n",
      "'calc_fitness'  3775.32 ms\n",
      "'calc_fitness'  3564.19 ms\n",
      "'calc_fitness'  3999.25 ms\n",
      "'calc_fitness'  4002.40 ms\n",
      "'calc_fitness'  3546.60 ms\n",
      "'calc_fitness'  3954.52 ms\n",
      "'calc_fitness'  3698.93 ms\n",
      "'calc_fitness'  4000.57 ms\n",
      "'calc_fitness'  3947.02 ms\n",
      "'calc_fitness'  3291.45 ms\n",
      "'calc_fitness'  3527.18 ms\n",
      "'calc_fitness'  3821.25 ms\n",
      "'calc_fitness'  3422.81 ms\n",
      "'calc_fitness'  3437.84 ms\n",
      "'calc_fitness'  3460.92 ms\n",
      "'calc_fitness'  4376.62 ms\n",
      "'calc_fitness'  3735.47 ms\n",
      "'calc_fitness'  3262.34 ms\n",
      "'calc_fitness'  3432.12 ms\n",
      "'calc_fitness'  3967.60 ms\n",
      "'calc_fitness'  4629.15 ms\n",
      "'calc_fitness'  4408.19 ms\n",
      "'calc_fitness'  2810.19 ms\n",
      "'calc_fitness'  3900.84 ms\n",
      "'calc_fitness'  3833.05 ms\n",
      "'offspring'  170115.98 ms\n",
      "'mutation'  1125.52 ms\n",
      "Generation :  2\n",
      "'calc_fitness'  8653.98 ms\n"
     ]
    },
    {
     "data": {
      "text/plain": [
       "array([(121.875, 52.0), (108.125, 69.5), (78.75, 71.0), (20.625, 67.5),\n",
       "       (3.125, 47.0), (10.625, 49.0), (-90.0, 65.0), (141.875, 72.5),\n",
       "       (99.375, 58.0), (126.25, 50.5), (72.5, 39.5), (96.875, 69.0),\n",
       "       (99.375, 53.0), (-18.125, 65.5), (26.25, 69.5), (41.25, 55.0),\n",
       "       (97.5, 58.0), (21.875, 58.5), (76.875, 40.5), (-95.625, 69.5),\n",
       "       (25.0, 47.5), (123.125, 57.5), (-38.75, 69.5), (68.75, 72.0),\n",
       "       (64.375, 65.5), (131.875, 63.5), (1.875, 49.0), (111.25, 36.0),\n",
       "       (19.375, 64.0), (-7.5, 42.5)], dtype=object)"
      ]
     },
     "execution_count": 5,
     "metadata": {},
     "output_type": "execute_result"
    },
    {
     "data": {
      "text/plain": [
       "<Figure size 432x288 with 0 Axes>"
      ]
     },
     "metadata": {},
     "output_type": "display_data"
    }
   ],
   "source": [
    "import genetics\n",
    "genetics.do_genetics(dtime, clear_polys, big_clear_poly)"
   ]
  },
  {
   "cell_type": "markdown",
   "metadata": {},
   "source": [
    "# The final output of that last line = Our FoV selections\n",
    "\n",
    "i.e. the spots we should look to see the most unique clear visible area\n",
    "\n",
    "# Where do we go from here?\n",
    "\n",
    "- Can we improve the fitness calculation? It's slow and has some mysterious errors.\n",
    "- Can we apply other methods to find the best points?\n",
    "- Any tweaks you'd like in terms of usability?\n",
    "\n",
    "\n"
   ]
  },
  {
   "cell_type": "code",
   "execution_count": null,
   "metadata": {},
   "outputs": [],
   "source": []
  }
 ],
 "metadata": {
  "kernelspec": {
   "display_name": "Python 3",
   "language": "python",
   "name": "python3"
  },
  "language_info": {
   "codemirror_mode": {
    "name": "ipython",
    "version": 3
   },
   "file_extension": ".py",
   "mimetype": "text/x-python",
   "name": "python",
   "nbconvert_exporter": "python",
   "pygments_lexer": "ipython3",
   "version": "3.7.4"
  }
 },
 "nbformat": 4,
 "nbformat_minor": 2
}
